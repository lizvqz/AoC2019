{
 "cells": [
  {
   "cell_type": "code",
   "execution_count": 66,
   "metadata": {},
   "outputs": [
    {
     "name": "stdout",
     "output_type": "stream",
     "text": [
      "54\n",
      "{'B': 'COM', 'C': 'B', 'D': 'C', 'E': 'D', 'F': 'E', 'G': 'B', 'H': 'G', 'I': 'D', 'J': 'E', 'K': 'J', 'L': 'K', 'YOU': 'K', 'SAN': 'I'}\n"
     ]
    }
   ],
   "source": [
    "filename = '/Users/liz/Documents/Advent2019/day6b.txt'\n",
    "\n",
    "d = {}\n",
    "t = 0\n",
    "l = []\n",
    "\n",
    "def ind (x):\n",
    "    if d[x] == 'COM':\n",
    "        return 1\n",
    "    else:\n",
    "        return ind(d[x])+1\n",
    "    \n",
    "        \n",
    "def x(n):\n",
    "    c = []\n",
    "    #n = 'SAN'\n",
    "    while True:\n",
    "        c.append(d[n])\n",
    "        n = d[n]\n",
    "        if n == 'COM':\n",
    "            print(c)\n",
    "            break\n",
    "    return c\n",
    "\n",
    "\n",
    "\n",
    "\n",
    "with open(filename) as file:\n",
    "    for line in file:\n",
    "        for row in line.strip().split('\\n'):\n",
    "            d[row.split(')')[1]] = row.split(')')[0]\n",
    "            \n",
    "\n",
    "for p in d:\n",
    "#    print(p)\n",
    "    t+=ind(p)\n",
    "\n",
    "print (t)\n",
    "print(d)\n",
    "\n",
    "\n",
    "\n",
    "\n",
    "\n",
    "\n",
    "    \n",
    "    \n",
    "\n",
    "\n",
    "\n",
    "\n"
   ]
  },
  {
   "cell_type": "code",
   "execution_count": 67,
   "metadata": {},
   "outputs": [
    {
     "name": "stdout",
     "output_type": "stream",
     "text": [
      "['I', 'D', 'C', 'B', 'COM']\n"
     ]
    },
    {
     "data": {
      "text/plain": [
       "['I', 'D', 'C', 'B', 'COM']"
      ]
     },
     "execution_count": 67,
     "metadata": {},
     "output_type": "execute_result"
    }
   ],
   "source": [
    "x('SAN')"
   ]
  },
  {
   "cell_type": "code",
   "execution_count": 59,
   "metadata": {},
   "outputs": [
    {
     "data": {
      "text/plain": [
       "5"
      ]
     },
     "execution_count": 59,
     "metadata": {},
     "output_type": "execute_result"
    }
   ],
   "source": [
    "ind('SAN')"
   ]
  },
  {
   "cell_type": "code",
   "execution_count": 43,
   "metadata": {},
   "outputs": [
    {
     "data": {
      "text/plain": [
       "'J'"
      ]
     },
     "execution_count": 43,
     "metadata": {},
     "output_type": "execute_result"
    }
   ],
   "source": [
    "d['K']"
   ]
  },
  {
   "cell_type": "code",
   "execution_count": 44,
   "metadata": {},
   "outputs": [
    {
     "data": {
      "text/plain": [
       "'E'"
      ]
     },
     "execution_count": 44,
     "metadata": {},
     "output_type": "execute_result"
    }
   ],
   "source": [
    "d['J']"
   ]
  },
  {
   "cell_type": "code",
   "execution_count": 45,
   "metadata": {},
   "outputs": [
    {
     "data": {
      "text/plain": [
       "'D'"
      ]
     },
     "execution_count": 45,
     "metadata": {},
     "output_type": "execute_result"
    }
   ],
   "source": [
    "d['E']"
   ]
  },
  {
   "cell_type": "code",
   "execution_count": 46,
   "metadata": {},
   "outputs": [
    {
     "data": {
      "text/plain": [
       "'C'"
      ]
     },
     "execution_count": 46,
     "metadata": {},
     "output_type": "execute_result"
    }
   ],
   "source": [
    "d['D']"
   ]
  },
  {
   "cell_type": "code",
   "execution_count": 47,
   "metadata": {},
   "outputs": [
    {
     "data": {
      "text/plain": [
       "'B'"
      ]
     },
     "execution_count": 47,
     "metadata": {},
     "output_type": "execute_result"
    }
   ],
   "source": [
    "d['C']"
   ]
  },
  {
   "cell_type": "code",
   "execution_count": 48,
   "metadata": {},
   "outputs": [
    {
     "data": {
      "text/plain": [
       "'COM'"
      ]
     },
     "execution_count": 48,
     "metadata": {},
     "output_type": "execute_result"
    }
   ],
   "source": [
    "d['B']"
   ]
  },
  {
   "cell_type": "code",
   "execution_count": 49,
   "metadata": {},
   "outputs": [
    {
     "data": {
      "text/plain": [
       "'D'"
      ]
     },
     "execution_count": 49,
     "metadata": {},
     "output_type": "execute_result"
    }
   ],
   "source": [
    "d['I']"
   ]
  },
  {
   "cell_type": "code",
   "execution_count": 82,
   "metadata": {},
   "outputs": [
    {
     "name": "stdout",
     "output_type": "stream",
     "text": [
      "['92P', '8R7', '41S', '1J7', 'GLV', 'ZW4', 'JP9', '38P', '3VT', '2P8', '8K8', 'SSM', 'CS2', '4N5', 'GH9', 'W15', '6PG', 'NZV', 'F27', 'MVQ', 'GRX', 'F4P', '98K', 'P9Y', 'RMW', 'WV9', 'TWD', 'FRR', 'WV2', '12K', 'P1Y', 'XT7', 'WBX', 'WQW', 'NBY', 'GSJ', 'KRY', 'RBQ', '1YT', '2PK', 'BTY', 'Z5T', '5D9', 'C7X', 'R7W', '9KN', 'C5X', 'WRP', 'WH4', '1JH', 'QFZ', '417', 'Q3D', 'BWB', 'ZKZ', '1VR', 'F6W', '1VF', 'VDN', 'XS9', '1RT', 'V78', 'B43', '97W', 'RXR', 'B6N', '3H5', 'G75', 'ZN3', 'K41', '8C4', '5C2', 'B3D', 'MBT', '226', 'YFJ', 'TXV', '6DP', 'SXX', '4JJ', '24S', 'ZSN', 'C2G', '188', 'Q86', 'WWH', 'RPW', 'FFW', 'NSK', 'X73', '6MS', 'XGG', 'D3V', 'X87', '1CL', '4GQ', 'CNH', 'KGZ', 'CNL', 'PQH', 'NDL', 'F1T', 'YC5', 'GM7', 'NRP', '4FH', 'KGP', 'DT9', '8R8', '9P3', '557', 'Y5Y', '22N', '8PD', 'VYW', 'SC9', '8V4', 'NSQ', 'L3V', 'G6N', 'N9J', '1G6', 'PMB', 'B2F', '6CD', 'JZ8', 'LWN', 'BVR', 'WXT', 'RG5', 'DPD', 'RHY', '3L3', '54Y', '3M8', '3GG', 'M8X', '9MB', 'DW1', 'P34', '7WX', '1JP', '4KF', '4TH', '6QN', '5N7', 'YJ8', 'L54', '5QL', 'LJW', 'S2K', 'TNW', 'NLX', 'JNV', '62K', '1WY', '2BH', 'P8P', 'MG8', 'SH1', 'KCX', 'XTF', 'F3N', '8VM', 'B3J', 'Y9Q', 'S26', 'MF3', '1R5', '5MP', 'FGS', 'T75', 'B3T', 'VMM', 'HQG', 'C2F', 'SV7', '7FJ', 'KT1', '642', '1XZ', '7MF', 'JFJ', 'XF3', 'D5P', 'F22', 'J7P', 'V2W', 'MJZ', 'YXX', 'XDD', '99H', '1MF', 'COM']\n",
      "['VV8', 'BZB', '5GN', '2C5', 'RP6', 'X97', 'QW1', 'GCX', '8DJ', '3RJ', 'M31', 'FLV', 'MG9', 'JHB', '3CP', '293', '48J', 'MGG', 'PFD', '5NH', 'XXM', 'TZM', 'S4N', 'HSN', 'ZR9', 'L5V', 'FYJ', '7N1', 'H9L', 'R62', 'M77', 'NTH', '1V4', '5R9', 'TBK', '33J', 'GBH', '5JJ', 'JFR', 'NCW', 'LZT', 'KKX', 'V6C', 'F82', 'S66', '1Y5', 'HM4', 'QP9', '8G9', 'DD1', '9C5', 'W71', 'PNK', 'FN4', 'W2M', '4G5', 'T2D', '6LN', '4QY', '9VD', 'FVB', 'F4Y', '43N', 'XPN', 'ZB1', '264', 'VG4', '4WC', 'VX9', '3Z2', 'XRP', '2L2', 'CFJ', '8XV', '85W', '78L', 'PLJ', 'VWG', 'XHN', 'MFG', 'LCZ', '6HC', 'GDF', 'HRL', '9NQ', '39M', 'NM2', '2VG', '145', 'F86', 'D5J', 'JG9', 'X8L', 'VJB', '4S3', 'JV3', 'D99', 'D3H', '9L5', 'MKC', 'DDZ', '2G8', '3PN', 'VQY', '5Z5', 'H51', 'JM9', 'SRB', '5WF', 'FN2', '2F4', 'XT3', '2C1', 'CZ6', 'L44', '6D9', 'H68', 'ZVB', '914', 'T1W', 'R2K', '4G6', 'SGK', 'G22', 'JXN', 'BQH', 'LPB', 'HYC', 'MYH', '68K', 'CF8', 'BRC', '9LR', 'HF7', 'HLR', 'TSQ', 'LKZ', 'KBZ', 'L3J', '6X1', '4BY', 'JMD', 'WGN', 'GSZ', '8XM', 'YX4', 'YDG', '8HC', 'FSP', 'ZQZ', '8Y9', 'N8D', 'JJ7', 'NVH', 'ZD2', 'VM4', 'N96', 'NVK', 'D2J', 'FHC', '9XG', 'X5V', 'SF5', 'MC3', '7BY', 'D8H', '32R', 'SHJ', 'YQW', '667', 'SPS', 'F7X', '7VN', 'HLC', '6H3', 'XZ3', '1BS', '6CD', 'JZ8', 'LWN', 'BVR', 'WXT', 'RG5', 'DPD', 'RHY', '3L3', '54Y', '3M8', '3GG', 'M8X', '9MB', 'DW1', 'P34', '7WX', '1JP', '4KF', '4TH', '6QN', '5N7', 'YJ8', 'L54', '5QL', 'LJW', 'S2K', 'TNW', 'NLX', 'JNV', '62K', '1WY', '2BH', 'P8P', 'MG8', 'SH1', 'KCX', 'XTF', 'F3N', '8VM', 'B3J', 'Y9Q', 'S26', 'MF3', '1R5', '5MP', 'FGS', 'T75', 'B3T', 'VMM', 'HQG', 'C2F', 'SV7', '7FJ', 'KT1', '642', '1XZ', '7MF', 'JFJ', 'XF3', 'D5P', 'F22', 'J7P', 'V2W', 'MJZ', 'YXX', 'XDD', '99H', '1MF', 'COM']\n",
      "6CD\n",
      "177\n",
      "301\n"
     ]
    }
   ],
   "source": [
    "filename = '/Users/liz/Documents/Advent2019/day6.txt'\n",
    "\n",
    "d = {}\n",
    "san = []\n",
    "you = []\n",
    "    \n",
    "        \n",
    "def x(n):\n",
    "    c = []\n",
    "    #n = 'SAN'\n",
    "    while True:\n",
    "        c.append(d[n])\n",
    "        n = d[n]\n",
    "        if n == 'COM':\n",
    "            print(c)\n",
    "            break\n",
    "    return c\n",
    "\n",
    "\n",
    "\n",
    "\n",
    "with open(filename) as file:\n",
    "    for line in file:\n",
    "        for row in line.strip().split('\\n'):\n",
    "            d[row.split(')')[1]] = row.split(')')[0]\n",
    "            \n",
    "\n",
    "san = x('SAN')\n",
    "you = x('YOU')\n",
    "b = ''\n",
    "count1=0\n",
    "count2=0\n",
    "count3=0\n",
    "\n",
    "for a in you:\n",
    "#    print(a)\n",
    "    if a in san:\n",
    "        b = a\n",
    "        print(b)\n",
    "        break\n",
    "\n",
    "for s1 in san:\n",
    "    if s1 == b:\n",
    "        #count1+=1\n",
    "        break\n",
    "    else:\n",
    "        count1+=1\n",
    "        \n",
    "for s2 in you:\n",
    "    if s2 == b:\n",
    "        #count2+=1\n",
    "        break\n",
    "    else:\n",
    "        count2+=1\n",
    "        \n",
    "count3 = count1+count2\n",
    "print(count2)\n",
    "print(count3)\n",
    "        \n",
    "    \n",
    "\n",
    "\n",
    "\n",
    "    "
   ]
  },
  {
   "cell_type": "code",
   "execution_count": null,
   "metadata": {
    "collapsed": true
   },
   "outputs": [],
   "source": []
  }
 ],
 "metadata": {
  "kernelspec": {
   "display_name": "Python 3",
   "language": "python",
   "name": "python3"
  },
  "language_info": {
   "codemirror_mode": {
    "name": "ipython",
    "version": 3
   },
   "file_extension": ".py",
   "mimetype": "text/x-python",
   "name": "python",
   "nbconvert_exporter": "python",
   "pygments_lexer": "ipython3",
   "version": "3.7.1"
  }
 },
 "nbformat": 4,
 "nbformat_minor": 2
}
