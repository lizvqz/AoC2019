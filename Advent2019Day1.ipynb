{
 "cells": [
  {
   "cell_type": "code",
   "execution_count": 28,
   "metadata": {},
   "outputs": [
    {
     "name": "stdout",
     "output_type": "stream",
     "text": [
      "3233481\n"
     ]
    }
   ],
   "source": [
    "filepath = '/Users/liz/Documents/Advent2019/day1a.txt'\n",
    "s = 0\n",
    "\n",
    "with open (filepath) as f:\n",
    "    for line in f:       \n",
    "        s+=int(int(line)/3)-2\n",
    "print(s)"
   ]
  },
  {
   "cell_type": "code",
   "execution_count": 57,
   "metadata": {},
   "outputs": [
    {
     "name": "stdout",
     "output_type": "stream",
     "text": [
      "4847351\n"
     ]
    }
   ],
   "source": [
    "filepath = '/Users/liz/Documents/Advent2019/day1a.txt'\n",
    "m = 1\n",
    "s = {}\n",
    "total = 0\n",
    "with open (filepath) as f:\n",
    "    for line in f: \n",
    "        r = line\n",
    "        s[m] = 0\n",
    "        while True:\n",
    "            r = int(int(r)/3)-2\n",
    "            if r <= 0:\n",
    "                break\n",
    "            else:\n",
    "                s[m]+=r\n",
    "        m+=1\n",
    "    for value in range(1, len(s)+1):\n",
    "#        print (s[value])\n",
    "        total += s[value]\n",
    "    print(total)\n"
   ]
  },
  {
   "cell_type": "code",
   "execution_count": null,
   "metadata": {},
   "outputs": [],
   "source": []
  }
 ],
 "metadata": {
  "kernelspec": {
   "display_name": "Python 3",
   "language": "python",
   "name": "python3"
  },
  "language_info": {
   "codemirror_mode": {
    "name": "ipython",
    "version": 3
   },
   "file_extension": ".py",
   "mimetype": "text/x-python",
   "name": "python",
   "nbconvert_exporter": "python",
   "pygments_lexer": "ipython3",
   "version": "3.7.1"
  }
 },
 "nbformat": 4,
 "nbformat_minor": 2
}
