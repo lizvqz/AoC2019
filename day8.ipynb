{
 "cells": [
  {
   "cell_type": "code",
   "execution_count": 100,
   "metadata": {},
   "outputs": [
    {
     "name": "stdout",
     "output_type": "stream",
     "text": [
      "layer:  202221222222222222022222212222222222222222222222222222222222122220222222222222122212222222122212212022222222221021122211122022222211222211212122222222\n",
      "zero count:  6\n",
      "result 2480\n",
      "res:  111101000111100100001001000010100011001010000100100010001010111001000011110010000010010010100001001010000001001001010000100101111000100111001111010010\n",
      "1111010001111001000010010\n",
      "0001010001100101000010010\n",
      "0010001010111001000011110\n",
      "0100000100100101000010010\n",
      "1000000100100101000010010\n",
      "1111000100111001111010010\n"
     ]
    }
   ],
   "source": [
    "filename = '/Users/liz/Documents/Advent2019/day8.txt'\n",
    "\n",
    "# Possible objects: picture, layer, pixel\n",
    "\n",
    "# layer = 25 pixels wide and 6 pixels tall\n",
    "#image = '0222112222120000'\n",
    "image = ''\n",
    "wide = 25\n",
    "tall = 6\n",
    "layers = []\n",
    "count0 = wide * tall\n",
    "layer = ''\n",
    "res = ''\n",
    "\n",
    "with open(filename) as file:\n",
    "    for line in file:\n",
    "        image +=line.strip()\n",
    "\n",
    "\n",
    "for i in range(0,len(image), wide*tall):\n",
    "    layers.append(image[i:i+wide*tall])\n",
    "    if image[i:i+wide*tall].count('0') < count0:\n",
    "        \n",
    "        layer = image[i:i+wide*tall]\n",
    "        count0 = image[i:i+wide*tall].count('0')\n",
    "\n",
    "print('layer: ', layer)\n",
    "print('zero count: ', str(layer.count('0')))\n",
    "print('result', str(layer.count('1') * layer.count('2')))\n",
    "\n",
    "  \n",
    "# Start with first pixel. if the pixel is 0 or 1, then use that value in solution.\n",
    "# if it is not, go to the next layer for that same bit. Same condition as above. And same next action as here.\n",
    "# Repeat until the program has gone thru all the layers or it finds a 0 or 1.\n",
    "# Go to pixel number 2.\n",
    "end = 0\n",
    "\n",
    "for pxl in range(len(layers[0])):\n",
    "#    print(pxl)\n",
    "    level = 0\n",
    "    while True:\n",
    "        \n",
    "        if layers[level][pxl] in ('0' ,'1'):\n",
    "            res += layers[level][pxl]\n",
    "            break\n",
    "        else:\n",
    "            level += 1\n",
    "            if level == len(layers[0]):\n",
    "                res += layers[level][pxl]\n",
    "                break\n",
    "        \n",
    "print('response: ', res)\n",
    "for p in range(0, len(res), wide):\n",
    "    end += wide\n",
    "    print(res[p:end])\n",
    "    \n",
    "\n"
   ]
  },
  {
   "cell_type": "code",
   "execution_count": null,
   "metadata": {},
   "outputs": [],
   "source": []
  }
 ],
 "metadata": {
  "kernelspec": {
   "display_name": "Python 3",
   "language": "python",
   "name": "python3"
  },
  "language_info": {
   "codemirror_mode": {
    "name": "ipython",
    "version": 3
   },
   "file_extension": ".py",
   "mimetype": "text/x-python",
   "name": "python",
   "nbconvert_exporter": "python",
   "pygments_lexer": "ipython3",
   "version": "3.7.1"
  }
 },
 "nbformat": 4,
 "nbformat_minor": 2
}
