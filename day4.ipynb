{
 "cells": [
  {
   "cell_type": "code",
   "execution_count": 51,
   "metadata": {},
   "outputs": [],
   "source": [
    "min = 172851\n",
    "max = 675869\n",
    "r = []\n",
    "\n",
    "def adjacent(n):\n",
    "    for i in range(1,10):\n",
    "        if str(n).count(str(i)) > 1: \n",
    "            if str(n).count(str(i)+str(i)) >0:\n",
    "                return True\n",
    "    return False\n",
    "\n",
    "def increase(n):\n",
    "    for i in range(0,5):\n",
    "        if str(n)[i]>str(n)[i+1]:\n",
    "            return False    \n",
    "    return True\n",
    "\n",
    "def large_adj(n):\n",
    "    for i in range(1,10):\n",
    "        if str(n).count(str(i)) == 2:\n",
    "            return True\n",
    "    return False\n",
    "        \n",
    "\n",
    "for p in range (min, max+1):\n",
    "    if adjacent(p):\n",
    "        if increase(p):\n",
    "            if large_adj(p):\n",
    "                r.append(p)\n",
    "    \n",
    "    \n"
   ]
  },
  {
   "cell_type": "code",
   "execution_count": 52,
   "metadata": {},
   "outputs": [
    {
     "data": {
      "text/plain": [
       "1135"
      ]
     },
     "execution_count": 52,
     "metadata": {},
     "output_type": "execute_result"
    }
   ],
   "source": [
    "len(r)"
   ]
  },
  {
   "cell_type": "code",
   "execution_count": 56,
   "metadata": {},
   "outputs": [
    {
     "data": {
      "text/plain": [
       "225557"
      ]
     },
     "execution_count": 56,
     "metadata": {},
     "output_type": "execute_result"
    }
   ],
   "source": [
    "r[200]"
   ]
  },
  {
   "cell_type": "code",
   "execution_count": null,
   "metadata": {},
   "outputs": [],
   "source": []
  }
 ],
 "metadata": {
  "kernelspec": {
   "display_name": "Python 3",
   "language": "python",
   "name": "python3"
  },
  "language_info": {
   "codemirror_mode": {
    "name": "ipython",
    "version": 3
   },
   "file_extension": ".py",
   "mimetype": "text/x-python",
   "name": "python",
   "nbconvert_exporter": "python",
   "pygments_lexer": "ipython3",
   "version": "3.7.1"
  }
 },
 "nbformat": 4,
 "nbformat_minor": 2
}
